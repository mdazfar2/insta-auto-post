{
 "cells": [
  {
   "cell_type": "code",
   "execution_count": null,
   "id": "4080190e",
   "metadata": {},
   "outputs": [],
   "source": [
    "from instabot import Bot\n",
    "from PIL import Image\n",
    "\n",
    "# Set your Instagram username and password\n",
    "username = \"python4873\"\n",
    "password = \"python123456789\"\n",
    "\n",
    "# Create an instance of the Instabot class\n",
    "bot = Bot()\n",
    "\n",
    "# Log in to Instagram\n",
    "bot.login(username=username, password=password, use_cookie=False, ask_for_code=True)\n",
    "\n",
    "# Open the image and resize it to a square (1:1) aspect ratio\n",
    "image_path = r\"vimal sir.jpeg\"\n",
    "image = Image.open(image_path)\n",
    "width, height = image.size\n",
    "min_dimension = min(width, height)\n",
    "resized_image = image.crop((0, 0, min_dimension, min_dimension))\n",
    "\n",
    "# Save the resized image to a temporary file\n",
    "temp_image_path = r\"resized_firstpost1.jpeg\"\n",
    "resized_image.save(temp_image_path)\n",
    "\n",
    "# Upload the resized image with a caption\n",
    "caption = \" It's been true in my life that when I've needed a mentor, the right person shows up\"\n",
    "bot.upload_photo(temp_image_path, caption=caption)\n",
    "\n",
    "# Logout from your account\n",
    "bot.logout()"
   ]
  }
 ],
 "metadata": {
  "kernelspec": {
   "display_name": "Python 3 (ipykernel)",
   "language": "python",
   "name": "python3"
  },
  "language_info": {
   "codemirror_mode": {
    "name": "ipython",
    "version": 3
   },
   "file_extension": ".py",
   "mimetype": "text/x-python",
   "name": "python",
   "nbconvert_exporter": "python",
   "pygments_lexer": "ipython3",
   "version": "3.11.3"
  }
 },
 "nbformat": 4,
 "nbformat_minor": 5
}
